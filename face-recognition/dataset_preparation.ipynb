{
 "cells": [
  {
   "cell_type": "code",
   "execution_count": 1,
   "metadata": {},
   "outputs": [],
   "source": [
    "import os\n",
    "import random\n",
    "\n",
    "from PIL import Image"
   ]
  },
  {
   "cell_type": "code",
   "execution_count": 2,
   "metadata": {},
   "outputs": [],
   "source": [
    "IMAGES_PATH = './data/lfw'\n",
    "TRAIN_PATH = './data/lfw_divided/lfw_train/'\n",
    "TEST_PATH = './data/lfw_divided/lfw_test/'\n",
    "\n",
    "PERCENTAGE_OF_TRAIN_DATA = 0.6"
   ]
  },
  {
   "cell_type": "markdown",
   "metadata": {},
   "source": [
    "We will divide images into folders lfw_test and lfw_train:"
   ]
  },
  {
   "cell_type": "code",
   "execution_count": 4,
   "metadata": {},
   "outputs": [],
   "source": [
    "def save_image_into_folder(root, image_file, path_to_folder):\n",
    "    path_to_image = root + '/' + image_file\n",
    "    new_dir_path_to_image = os.path.join(path_to_folder, os.path.basename(root))\n",
    "    \n",
    "    if not os.path.exists(new_dir_path_to_image):\n",
    "        os.makedirs(new_dir_path_to_image)\n",
    "        \n",
    "    with Image.open(path_to_image) as image: \n",
    "        image.save(new_dir_path_to_image + '/'+ image_file, 'JPEG')\n",
    "\n",
    "level = 0  \n",
    "\n",
    "for root, dirs, files in os.walk(IMAGES_PATH):\n",
    "    \n",
    "    #people with one image we will put into test set\n",
    "    if len(files) <2 and level != 0:\n",
    "        save_image_into_folder(root, files[0], TEST_PATH)\n",
    "        \n",
    "            \n",
    "    elif level != 0:\n",
    "\n",
    "        number_of_train_data = round(len(files)*PERCENTAGE_OF_TRAIN_DATA)\n",
    "        random.shuffle(files)    #shuffle images\n",
    "        \n",
    "        #choose training images\n",
    "        for index in range(0, number_of_train_data):       \n",
    "            file = files[index]   \n",
    "            save_image_into_folder(root, file, TRAIN_PATH)\n",
    "          \n",
    "        #choose test images        \n",
    "        for index in range(number_of_train_data, len(files)):\n",
    "            file = files[index]\n",
    "            save_image_into_folder(root, file, TEST_PATH)\n",
    "\n",
    "    level = 1"
   ]
  }
 ],
 "metadata": {
  "kernelspec": {
   "display_name": "Python 3",
   "language": "python",
   "name": "python3"
  },
  "language_info": {
   "codemirror_mode": {
    "name": "ipython",
    "version": 3
   },
   "file_extension": ".py",
   "mimetype": "text/x-python",
   "name": "python",
   "nbconvert_exporter": "python",
   "pygments_lexer": "ipython3",
   "version": "3.6.8"
  }
 },
 "nbformat": 4,
 "nbformat_minor": 2
}
