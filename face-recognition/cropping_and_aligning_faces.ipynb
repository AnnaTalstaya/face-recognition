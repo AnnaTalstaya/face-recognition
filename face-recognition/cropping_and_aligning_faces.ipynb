{
 "cells": [
  {
   "cell_type": "code",
   "execution_count": 1,
   "metadata": {},
   "outputs": [],
   "source": [
    "import os\n",
    "import numpy as np"
   ]
  },
  {
   "cell_type": "code",
   "execution_count": 2,
   "metadata": {},
   "outputs": [],
   "source": [
    "from preprocessing import HOGFaceDetector, HaarFaceDetector, FaceAligner, convert_to_RGB\n",
    "\n",
    "from PIL import Image\n",
    "import cv2"
   ]
  },
  {
   "cell_type": "code",
   "execution_count": 3,
   "metadata": {},
   "outputs": [],
   "source": [
    "hog_face_detector = HOGFaceDetector()\n",
    "haar_face_detector = HaarFaceDetector('resources/haarcascade_frontalface_default.xml')\n",
    "face_aligner = FaceAligner(dlib_predictor_path=\"resources/shape_predictor_68_face_landmarks.dat\", face_template_path = \"resources/face_template.npy\")"
   ]
  },
  {
   "cell_type": "code",
   "execution_count": 4,
   "metadata": {},
   "outputs": [],
   "source": [
    "IMAGES_SOURCE = './data/lfw_divided'\n",
    "\n",
    "TRAIN_PATH = './data/lfw_divided/lfw_train/'\n",
    "TEST_PATH = './data/lfw_divided/lfw_test/'\n",
    "\n",
    "FACES_TRAIN_PATH = './data/lfw_cropped_and_aligned_faces/train/'\n",
    "FACES_TEST_PATH = './data/lfw_cropped_and_aligned_faces/test/'"
   ]
  },
  {
   "cell_type": "code",
   "execution_count": null,
   "metadata": {},
   "outputs": [],
   "source": [
    "def save_image_into_folder(root, ndarray_image, name_image_file, path_to_folder):\n",
    "    image = Image.fromarray(ndarray_image, 'RGB')\n",
    "\n",
    "    new_dir_path_to_image = os.path.join(path_to_folder, os.path.basename(root))\n",
    "    \n",
    "    if not os.path.exists(new_dir_path_to_image):\n",
    "        os.makedirs(new_dir_path_to_image)\n",
    "  \n",
    "    image.save(new_dir_path_to_image + '/'+ name_image_file, 'JPEG')    \n",
    "        \n",
    "for root, dirs, files in os.walk(IMAGES_SOURCE):\n",
    "    for directory in dirs:\n",
    "        level = 0\n",
    "        for directory_root, directory_dirs, directory_files in os.walk(root+ '/'+ directory):      \n",
    "            if level != 0:\n",
    "                for file in directory_files:\n",
    "                    image = cv2.imread(directory_root + '/' + file)\n",
    "\n",
    "                    face_rects = hog_face_detector.detect_faces(image, upscale_factor=2, get_top = 1)\n",
    "                    if len(face_rects) == 0:\n",
    "                        face_rects = haar_face_detector.detect_faces(image, get_top = 1)\n",
    "                        if len(face_rects) == 0:\n",
    "                            face_rects = haar_face_detector.detect_faces(image, scaleFactor = 1.3, minNeighbors = 3, get_top = 1)\n",
    "                            if len(face_rects) == 0:\n",
    "                                face_rects = haar_face_detector.detect_faces(image, scaleFactor = 1.1, minNeighbors = 2, get_top = 1)\n",
    "                            if len(face_rects) == 0:\n",
    "                                face_rects = haar_face_detector.detect_faces(image, scaleFactor = 1.1, minNeighbors = 1, get_top = 1)\n",
    "                            \n",
    "                    faces = face_aligner.align_faces(image, face_rects)\n",
    "                    print(file)\n",
    "                    faces[0] = convert_to_RGB(faces[0].astype(np.uint8))\n",
    "                    if directory == 'lfw_train':\n",
    "                        save_image_into_folder(directory_root, faces[0], file, FACES_TRAIN_PATH)\n",
    "                    elif directory == 'lfw_test':\n",
    "                        save_image_into_folder(directory_root, faces[0], file, FACES_TEST_PATH)\n",
    "            level = 1  \n",
    "\n",
    "    break\n"
   ]
  }
 ],
 "metadata": {
  "kernelspec": {
   "display_name": "Python 3",
   "language": "python",
   "name": "python3"
  },
  "language_info": {
   "codemirror_mode": {
    "name": "ipython",
    "version": 3
   },
   "file_extension": ".py",
   "mimetype": "text/x-python",
   "name": "python",
   "nbconvert_exporter": "python",
   "pygments_lexer": "ipython3",
   "version": "3.6.8"
  }
 },
 "nbformat": 4,
 "nbformat_minor": 2
}
